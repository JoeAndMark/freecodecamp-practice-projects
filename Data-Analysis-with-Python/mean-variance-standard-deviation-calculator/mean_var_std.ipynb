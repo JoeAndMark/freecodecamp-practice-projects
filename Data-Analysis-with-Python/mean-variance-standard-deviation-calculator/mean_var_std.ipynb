{
 "cells": [
  {
   "cell_type": "code",
   "id": "initial_id",
   "metadata": {
    "collapsed": true,
    "ExecuteTime": {
     "end_time": "2024-06-29T12:29:48.917060Z",
     "start_time": "2024-06-29T12:29:48.904408Z"
    }
   },
   "source": "import numpy as np",
   "outputs": [],
   "execution_count": 3
  },
  {
   "metadata": {
    "ExecuteTime": {
     "end_time": "2024-06-29T12:30:49.069985Z",
     "start_time": "2024-06-29T12:30:49.060327Z"
    }
   },
   "cell_type": "code",
   "source": "lst = range(9)",
   "id": "20c04646922a1f51",
   "outputs": [],
   "execution_count": 10
  },
  {
   "metadata": {
    "ExecuteTime": {
     "end_time": "2024-06-29T12:30:49.347110Z",
     "start_time": "2024-06-29T12:30:49.326876Z"
    }
   },
   "cell_type": "code",
   "source": "array = np.array(lst)",
   "id": "1947f22cf8a0d8c5",
   "outputs": [],
   "execution_count": 11
  },
  {
   "metadata": {
    "ExecuteTime": {
     "end_time": "2024-06-29T12:30:49.627787Z",
     "start_time": "2024-06-29T12:30:49.617978Z"
    }
   },
   "cell_type": "code",
   "source": "array",
   "id": "bbb5bdfe6119d074",
   "outputs": [
    {
     "data": {
      "text/plain": [
       "array([0, 1, 2, 3, 4, 5, 6, 7, 8])"
      ]
     },
     "execution_count": 12,
     "metadata": {},
     "output_type": "execute_result"
    }
   ],
   "execution_count": 12
  },
  {
   "metadata": {
    "ExecuteTime": {
     "end_time": "2024-06-29T12:31:36.574113Z",
     "start_time": "2024-06-29T12:31:36.567062Z"
    }
   },
   "cell_type": "code",
   "source": "array = array.reshape(3, 3)",
   "id": "e13918658015afe2",
   "outputs": [],
   "execution_count": 16
  },
  {
   "metadata": {
    "ExecuteTime": {
     "end_time": "2024-06-29T12:31:41.610281Z",
     "start_time": "2024-06-29T12:31:41.598108Z"
    }
   },
   "cell_type": "code",
   "source": "array.mean(axis=0).tolist()",
   "id": "da523fccd308df60",
   "outputs": [
    {
     "data": {
      "text/plain": [
       "[3.0, 4.0, 5.0]"
      ]
     },
     "execution_count": 18,
     "metadata": {},
     "output_type": "execute_result"
    }
   ],
   "execution_count": 18
  },
  {
   "metadata": {
    "ExecuteTime": {
     "end_time": "2024-06-29T12:31:56.752937Z",
     "start_time": "2024-06-29T12:31:56.736298Z"
    }
   },
   "cell_type": "code",
   "source": "array.std(axis=0).tolist()",
   "id": "558d9968bfba7f9b",
   "outputs": [
    {
     "data": {
      "text/plain": [
       "[2.449489742783178, 2.449489742783178, 2.449489742783178]"
      ]
     },
     "execution_count": 19,
     "metadata": {},
     "output_type": "execute_result"
    }
   ],
   "execution_count": 19
  },
  {
   "metadata": {},
   "cell_type": "code",
   "outputs": [],
   "execution_count": null,
   "source": "",
   "id": "c560e55fd9b65452"
  }
 ],
 "metadata": {
  "kernelspec": {
   "display_name": "Python 3",
   "language": "python",
   "name": "python3"
  },
  "language_info": {
   "codemirror_mode": {
    "name": "ipython",
    "version": 2
   },
   "file_extension": ".py",
   "mimetype": "text/x-python",
   "name": "python",
   "nbconvert_exporter": "python",
   "pygments_lexer": "ipython2",
   "version": "2.7.6"
  }
 },
 "nbformat": 4,
 "nbformat_minor": 5
}
