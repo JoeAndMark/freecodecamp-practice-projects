{
 "cells": [
  {
   "cell_type": "code",
   "id": "initial_id",
   "metadata": {
    "collapsed": true,
    "ExecuteTime": {
     "end_time": "2024-06-30T07:21:50.907638Z",
     "start_time": "2024-06-30T07:21:50.899621Z"
    }
   },
   "source": [
    "import pandas as pd\n",
    "import matplotlib.pyplot as plt"
   ],
   "outputs": [],
   "execution_count": 1
  },
  {
   "metadata": {
    "ExecuteTime": {
     "end_time": "2024-06-30T07:22:04.931766Z",
     "start_time": "2024-06-30T07:22:04.910750Z"
    }
   },
   "cell_type": "code",
   "source": "df = pd.read_csv(\"fcc-forum-pageviews.csv\", parse_dates=[\"date\"], index_col=\"date\")",
   "id": "2a2b2ed2b6f972a6",
   "outputs": [],
   "execution_count": 3
  },
  {
   "metadata": {
    "ExecuteTime": {
     "end_time": "2024-06-30T07:22:05.898468Z",
     "start_time": "2024-06-30T07:22:05.887015Z"
    }
   },
   "cell_type": "code",
   "source": "df.head()",
   "id": "4d7b5f53145917d8",
   "outputs": [
    {
     "data": {
      "text/plain": [
       "            value\n",
       "date             \n",
       "2016-05-09   1201\n",
       "2016-05-10   2329\n",
       "2016-05-11   1716\n",
       "2016-05-12  10539\n",
       "2016-05-13   6933"
      ],
      "text/html": [
       "<div>\n",
       "<style scoped>\n",
       "    .dataframe tbody tr th:only-of-type {\n",
       "        vertical-align: middle;\n",
       "    }\n",
       "\n",
       "    .dataframe tbody tr th {\n",
       "        vertical-align: top;\n",
       "    }\n",
       "\n",
       "    .dataframe thead th {\n",
       "        text-align: right;\n",
       "    }\n",
       "</style>\n",
       "<table border=\"1\" class=\"dataframe\">\n",
       "  <thead>\n",
       "    <tr style=\"text-align: right;\">\n",
       "      <th></th>\n",
       "      <th>value</th>\n",
       "    </tr>\n",
       "    <tr>\n",
       "      <th>date</th>\n",
       "      <th></th>\n",
       "    </tr>\n",
       "  </thead>\n",
       "  <tbody>\n",
       "    <tr>\n",
       "      <th>2016-05-09</th>\n",
       "      <td>1201</td>\n",
       "    </tr>\n",
       "    <tr>\n",
       "      <th>2016-05-10</th>\n",
       "      <td>2329</td>\n",
       "    </tr>\n",
       "    <tr>\n",
       "      <th>2016-05-11</th>\n",
       "      <td>1716</td>\n",
       "    </tr>\n",
       "    <tr>\n",
       "      <th>2016-05-12</th>\n",
       "      <td>10539</td>\n",
       "    </tr>\n",
       "    <tr>\n",
       "      <th>2016-05-13</th>\n",
       "      <td>6933</td>\n",
       "    </tr>\n",
       "  </tbody>\n",
       "</table>\n",
       "</div>"
      ]
     },
     "execution_count": 4,
     "metadata": {},
     "output_type": "execute_result"
    }
   ],
   "execution_count": 4
  },
  {
   "metadata": {
    "ExecuteTime": {
     "end_time": "2024-06-30T07:22:06.227043Z",
     "start_time": "2024-06-30T07:22:06.203046Z"
    }
   },
   "cell_type": "code",
   "source": "df.info()",
   "id": "1572c9c5bbcc86e0",
   "outputs": [
    {
     "name": "stdout",
     "output_type": "stream",
     "text": [
      "<class 'pandas.core.frame.DataFrame'>\n",
      "DatetimeIndex: 1304 entries, 2016-05-09 to 2019-12-03\n",
      "Data columns (total 1 columns):\n",
      " #   Column  Non-Null Count  Dtype\n",
      "---  ------  --------------  -----\n",
      " 0   value   1304 non-null   int64\n",
      "dtypes: int64(1)\n",
      "memory usage: 20.4 KB\n"
     ]
    }
   ],
   "execution_count": 5
  },
  {
   "metadata": {
    "ExecuteTime": {
     "end_time": "2024-06-30T07:22:07.825503Z",
     "start_time": "2024-06-30T07:22:07.808487Z"
    }
   },
   "cell_type": "code",
   "source": [
    "# Clean data\n",
    "df_filtered = df[\n",
    "    (df[\"value\"] >= df[\"value\"].quantile(0.025)) &\n",
    "    (df[\"value\"] <= df[\"value\"].quantile(0.975))\n",
    "]"
   ],
   "id": "4e0116c2007b55f9",
   "outputs": [],
   "execution_count": 6
  },
  {
   "metadata": {
    "ExecuteTime": {
     "end_time": "2024-06-30T07:22:09.090276Z",
     "start_time": "2024-06-30T07:22:09.079259Z"
    }
   },
   "cell_type": "code",
   "source": "df_filtered.head()",
   "id": "3aff7e8e32303fec",
   "outputs": [
    {
     "data": {
      "text/plain": [
       "            value\n",
       "date             \n",
       "2016-05-19  19736\n",
       "2016-05-26  18060\n",
       "2016-05-27  19997\n",
       "2016-05-28  19044\n",
       "2016-05-29  20325"
      ],
      "text/html": [
       "<div>\n",
       "<style scoped>\n",
       "    .dataframe tbody tr th:only-of-type {\n",
       "        vertical-align: middle;\n",
       "    }\n",
       "\n",
       "    .dataframe tbody tr th {\n",
       "        vertical-align: top;\n",
       "    }\n",
       "\n",
       "    .dataframe thead th {\n",
       "        text-align: right;\n",
       "    }\n",
       "</style>\n",
       "<table border=\"1\" class=\"dataframe\">\n",
       "  <thead>\n",
       "    <tr style=\"text-align: right;\">\n",
       "      <th></th>\n",
       "      <th>value</th>\n",
       "    </tr>\n",
       "    <tr>\n",
       "      <th>date</th>\n",
       "      <th></th>\n",
       "    </tr>\n",
       "  </thead>\n",
       "  <tbody>\n",
       "    <tr>\n",
       "      <th>2016-05-19</th>\n",
       "      <td>19736</td>\n",
       "    </tr>\n",
       "    <tr>\n",
       "      <th>2016-05-26</th>\n",
       "      <td>18060</td>\n",
       "    </tr>\n",
       "    <tr>\n",
       "      <th>2016-05-27</th>\n",
       "      <td>19997</td>\n",
       "    </tr>\n",
       "    <tr>\n",
       "      <th>2016-05-28</th>\n",
       "      <td>19044</td>\n",
       "    </tr>\n",
       "    <tr>\n",
       "      <th>2016-05-29</th>\n",
       "      <td>20325</td>\n",
       "    </tr>\n",
       "  </tbody>\n",
       "</table>\n",
       "</div>"
      ]
     },
     "execution_count": 7,
     "metadata": {},
     "output_type": "execute_result"
    }
   ],
   "execution_count": 7
  },
  {
   "metadata": {},
   "cell_type": "code",
   "source": "fig, ax = plt.subplots(figsize=(18, 6))",
   "id": "892c8d8e06d9f0ac",
   "outputs": [],
   "execution_count": null
  },
  {
   "metadata": {},
   "cell_type": "code",
   "source": "ax.plot(df_filtered.index, df_filtered[\"value\"], color=\"red\", linewidth=1)",
   "id": "dfc290cd82b89ec2",
   "outputs": [],
   "execution_count": null
  },
  {
   "metadata": {},
   "cell_type": "code",
   "source": [
    "ax.set_title(\"Daily freeCodeCamp Forum Page Views 5/2016-12/2019\")\n",
    "ax.set_xlabel(\"Date\")\n",
    "ax.set_ylabel(\"Page Views\")"
   ],
   "id": "ea8584152ae0c0bc",
   "outputs": [],
   "execution_count": null
  },
  {
   "metadata": {},
   "cell_type": "code",
   "source": "plt.show()",
   "id": "dafff3d2b84a633",
   "outputs": [],
   "execution_count": null
  },
  {
   "metadata": {},
   "cell_type": "code",
   "source": "fig.savefig(\"line_plot.png\")",
   "id": "408973e363cc4f02",
   "outputs": [],
   "execution_count": null
  },
  {
   "metadata": {},
   "cell_type": "code",
   "source": "# Bar Plot",
   "id": "ce675948437ec59b",
   "outputs": [],
   "execution_count": null
  },
  {
   "metadata": {},
   "cell_type": "code",
   "source": "df_filtered.head()",
   "id": "12820fa83b4eded2",
   "outputs": [],
   "execution_count": null
  },
  {
   "metadata": {},
   "cell_type": "code",
   "source": "df_filtered.index.year",
   "id": "af7fb4da39885bd",
   "outputs": [],
   "execution_count": null
  },
  {
   "metadata": {},
   "cell_type": "code",
   "source": [
    "df_filtered.loc[:, 'year'] = df_filtered.index.year\n",
    "df_filtered.loc[:, 'month'] = df_filtered.index.strftime('%B')"
   ],
   "id": "98246e2af732a8f0",
   "outputs": [],
   "execution_count": null
  },
  {
   "metadata": {},
   "cell_type": "code",
   "source": "df_filtered.head()",
   "id": "bece38720d96fdc3",
   "outputs": [],
   "execution_count": null
  },
  {
   "metadata": {},
   "cell_type": "code",
   "source": "df_groupby = df_filtered.groupby([\"year\", \"month\"])[\"value\"].mean().unstack()",
   "id": "c4704f0dc833d95e",
   "outputs": [],
   "execution_count": null
  },
  {
   "metadata": {},
   "cell_type": "code",
   "source": "df_groupby.info()",
   "id": "7027c1494b878e4f",
   "outputs": [],
   "execution_count": null
  },
  {
   "metadata": {},
   "cell_type": "code",
   "source": "ax = df_groupby.plot(kind=\"bar\", figsize=(8, 14))",
   "id": "113a3f1d7f9a1eff",
   "outputs": [],
   "execution_count": null
  },
  {
   "metadata": {},
   "cell_type": "code",
   "source": "ax.set_ylabel(\"Average Page Views\")",
   "id": "92776912ed758cea",
   "outputs": [],
   "execution_count": null
  },
  {
   "metadata": {},
   "cell_type": "code",
   "source": "plt.show()",
   "id": "a51c33c53000cabf",
   "outputs": [],
   "execution_count": null
  },
  {
   "metadata": {},
   "cell_type": "code",
   "source": [
    "fig = ax.get_figure()\n",
    "fig.savefig(\"bar_plot.png\")"
   ],
   "id": "f584401d081ac592",
   "outputs": [],
   "execution_count": null
  },
  {
   "metadata": {
    "ExecuteTime": {
     "end_time": "2024-06-30T07:22:12.829180Z",
     "start_time": "2024-06-30T07:22:12.818186Z"
    }
   },
   "cell_type": "code",
   "source": "import seaborn as sns",
   "id": "5ff8601cd18c0ed7",
   "outputs": [],
   "execution_count": 8
  },
  {
   "metadata": {
    "ExecuteTime": {
     "end_time": "2024-06-30T07:22:13.332149Z",
     "start_time": "2024-06-30T07:22:13.329148Z"
    }
   },
   "cell_type": "code",
   "source": "df_box = df_filtered.copy()",
   "id": "d0d90b4aa517d4e9",
   "outputs": [],
   "execution_count": 9
  },
  {
   "metadata": {
    "ExecuteTime": {
     "end_time": "2024-06-30T07:22:16.888365Z",
     "start_time": "2024-06-30T07:22:16.867347Z"
    }
   },
   "cell_type": "code",
   "source": "df_box.head()",
   "id": "7a572a11ad84a2e6",
   "outputs": [
    {
     "data": {
      "text/plain": [
       "            value\n",
       "date             \n",
       "2016-05-19  19736\n",
       "2016-05-26  18060\n",
       "2016-05-27  19997\n",
       "2016-05-28  19044\n",
       "2016-05-29  20325"
      ],
      "text/html": [
       "<div>\n",
       "<style scoped>\n",
       "    .dataframe tbody tr th:only-of-type {\n",
       "        vertical-align: middle;\n",
       "    }\n",
       "\n",
       "    .dataframe tbody tr th {\n",
       "        vertical-align: top;\n",
       "    }\n",
       "\n",
       "    .dataframe thead th {\n",
       "        text-align: right;\n",
       "    }\n",
       "</style>\n",
       "<table border=\"1\" class=\"dataframe\">\n",
       "  <thead>\n",
       "    <tr style=\"text-align: right;\">\n",
       "      <th></th>\n",
       "      <th>value</th>\n",
       "    </tr>\n",
       "    <tr>\n",
       "      <th>date</th>\n",
       "      <th></th>\n",
       "    </tr>\n",
       "  </thead>\n",
       "  <tbody>\n",
       "    <tr>\n",
       "      <th>2016-05-19</th>\n",
       "      <td>19736</td>\n",
       "    </tr>\n",
       "    <tr>\n",
       "      <th>2016-05-26</th>\n",
       "      <td>18060</td>\n",
       "    </tr>\n",
       "    <tr>\n",
       "      <th>2016-05-27</th>\n",
       "      <td>19997</td>\n",
       "    </tr>\n",
       "    <tr>\n",
       "      <th>2016-05-28</th>\n",
       "      <td>19044</td>\n",
       "    </tr>\n",
       "    <tr>\n",
       "      <th>2016-05-29</th>\n",
       "      <td>20325</td>\n",
       "    </tr>\n",
       "  </tbody>\n",
       "</table>\n",
       "</div>"
      ]
     },
     "execution_count": 10,
     "metadata": {},
     "output_type": "execute_result"
    }
   ],
   "execution_count": 10
  },
  {
   "metadata": {
    "ExecuteTime": {
     "end_time": "2024-06-30T07:23:45.068312Z",
     "start_time": "2024-06-30T07:23:45.058313Z"
    }
   },
   "cell_type": "code",
   "source": "df_box[\"year\"] = df_box.index.year",
   "id": "1af551ae03a464d5",
   "outputs": [],
   "execution_count": 16
  },
  {
   "metadata": {
    "ExecuteTime": {
     "end_time": "2024-06-30T07:24:04.412369Z",
     "start_time": "2024-06-30T07:24:04.392367Z"
    }
   },
   "cell_type": "code",
   "source": "df_box[\"month\"] = df_box.index.strftime(\"%B\")",
   "id": "8a2238859187a313",
   "outputs": [],
   "execution_count": 17
  },
  {
   "metadata": {
    "ExecuteTime": {
     "end_time": "2024-06-30T07:24:08.783348Z",
     "start_time": "2024-06-30T07:24:08.762348Z"
    }
   },
   "cell_type": "code",
   "source": "df_box.info()",
   "id": "fc0567e6c1118420",
   "outputs": [
    {
     "name": "stdout",
     "output_type": "stream",
     "text": [
      "<class 'pandas.core.frame.DataFrame'>\n",
      "DatetimeIndex: 1238 entries, 2016-05-19 to 2019-12-03\n",
      "Data columns (total 3 columns):\n",
      " #   Column  Non-Null Count  Dtype \n",
      "---  ------  --------------  ----- \n",
      " 0   value   1238 non-null   int64 \n",
      " 1   year    1238 non-null   int32 \n",
      " 2   month   1238 non-null   object\n",
      "dtypes: int32(1), int64(1), object(1)\n",
      "memory usage: 33.9+ KB\n"
     ]
    }
   ],
   "execution_count": 18
  },
  {
   "metadata": {
    "ExecuteTime": {
     "end_time": "2024-06-30T07:24:18.054124Z",
     "start_time": "2024-06-30T07:24:18.042108Z"
    }
   },
   "cell_type": "code",
   "source": "df_box.head()",
   "id": "4395b5474b1b7670",
   "outputs": [
    {
     "data": {
      "text/plain": [
       "            value  year month\n",
       "date                         \n",
       "2016-05-19  19736  2016   May\n",
       "2016-05-26  18060  2016   May\n",
       "2016-05-27  19997  2016   May\n",
       "2016-05-28  19044  2016   May\n",
       "2016-05-29  20325  2016   May"
      ],
      "text/html": [
       "<div>\n",
       "<style scoped>\n",
       "    .dataframe tbody tr th:only-of-type {\n",
       "        vertical-align: middle;\n",
       "    }\n",
       "\n",
       "    .dataframe tbody tr th {\n",
       "        vertical-align: top;\n",
       "    }\n",
       "\n",
       "    .dataframe thead th {\n",
       "        text-align: right;\n",
       "    }\n",
       "</style>\n",
       "<table border=\"1\" class=\"dataframe\">\n",
       "  <thead>\n",
       "    <tr style=\"text-align: right;\">\n",
       "      <th></th>\n",
       "      <th>value</th>\n",
       "      <th>year</th>\n",
       "      <th>month</th>\n",
       "    </tr>\n",
       "    <tr>\n",
       "      <th>date</th>\n",
       "      <th></th>\n",
       "      <th></th>\n",
       "      <th></th>\n",
       "    </tr>\n",
       "  </thead>\n",
       "  <tbody>\n",
       "    <tr>\n",
       "      <th>2016-05-19</th>\n",
       "      <td>19736</td>\n",
       "      <td>2016</td>\n",
       "      <td>May</td>\n",
       "    </tr>\n",
       "    <tr>\n",
       "      <th>2016-05-26</th>\n",
       "      <td>18060</td>\n",
       "      <td>2016</td>\n",
       "      <td>May</td>\n",
       "    </tr>\n",
       "    <tr>\n",
       "      <th>2016-05-27</th>\n",
       "      <td>19997</td>\n",
       "      <td>2016</td>\n",
       "      <td>May</td>\n",
       "    </tr>\n",
       "    <tr>\n",
       "      <th>2016-05-28</th>\n",
       "      <td>19044</td>\n",
       "      <td>2016</td>\n",
       "      <td>May</td>\n",
       "    </tr>\n",
       "    <tr>\n",
       "      <th>2016-05-29</th>\n",
       "      <td>20325</td>\n",
       "      <td>2016</td>\n",
       "      <td>May</td>\n",
       "    </tr>\n",
       "  </tbody>\n",
       "</table>\n",
       "</div>"
      ]
     },
     "execution_count": 19,
     "metadata": {},
     "output_type": "execute_result"
    }
   ],
   "execution_count": 19
  },
  {
   "metadata": {
    "ExecuteTime": {
     "end_time": "2024-06-30T07:25:40.458069Z",
     "start_time": "2024-06-30T07:25:40.188227Z"
    }
   },
   "cell_type": "code",
   "source": "fig, (ax1, ax2) = plt.subplots(1, 2, figsize=(20, 10))",
   "id": "aabf40684b27699e",
   "outputs": [
    {
     "data": {
      "text/plain": [
       "<Figure size 2000x1000 with 2 Axes>"
      ],
      "image/png": "[encoded data removed]"
     },
     "metadata": {},
     "output_type": "display_data"
    }
   ],
   "execution_count": 22
  },
  {
   "metadata": {
    "ExecuteTime": {
     "end_time": "2024-06-30T07:26:23.876116Z",
     "start_time": "2024-06-30T07:26:23.826380Z"
    }
   },
   "cell_type": "code",
   "source": "sns.boxplot(x=\"year\", y=\"value\", data=df_box, ax=ax1)",
   "id": "e2eb291a9cb39e6d",
   "outputs": [
    {
     "data": {
      "text/plain": [
       "<Axes: xlabel='year', ylabel='value'>"
      ]
     },
     "execution_count": 24,
     "metadata": {},
     "output_type": "execute_result"
    }
   ],
   "execution_count": 24
  },
  {
   "metadata": {
    "ExecuteTime": {
     "end_time": "2024-06-30T07:26:48.595481Z",
     "start_time": "2024-06-30T07:26:48.578326Z"
    }
   },
   "cell_type": "code",
   "source": [
    "ax1.set_title(\"Year-wise Box Plot (Trend)\")\n",
    "ax1.set_xlabel(\"Year\")"
   ],
   "id": "26ebd595f93e9570",
   "outputs": [
    {
     "data": {
      "text/plain": [
       "Text(0.5, 4.4444444444444375, 'Year')"
      ]
     },
     "execution_count": 25,
     "metadata": {},
     "output_type": "execute_result"
    }
   ],
   "execution_count": 25
  },
  {
   "metadata": {
    "ExecuteTime": {
     "end_time": "2024-06-30T07:26:58.172275Z",
     "start_time": "2024-06-30T07:26:58.168279Z"
    }
   },
   "cell_type": "code",
   "source": "ax1.set_ylabel(\"Page Views\")",
   "id": "d8fa3225cdc81efb",
   "outputs": [
    {
     "data": {
      "text/plain": [
       "Text(4.44444444444448, 0.5, 'Page Views')"
      ]
     },
     "execution_count": 26,
     "metadata": {},
     "output_type": "execute_result"
    }
   ],
   "execution_count": 26
  },
  {
   "metadata": {
    "ExecuteTime": {
     "end_time": "2024-06-30T07:27:15.398670Z",
     "start_time": "2024-06-30T07:27:15.395670Z"
    }
   },
   "cell_type": "code",
   "source": "month_order = ['January', 'February', 'March', 'April', 'May', 'June', 'July', 'August', 'September', 'October', 'November', 'December']",
   "id": "92fea5aca87d196d",
   "outputs": [],
   "execution_count": 27
  },
  {
   "metadata": {
    "ExecuteTime": {
     "end_time": "2024-06-30T07:27:52.030553Z",
     "start_time": "2024-06-30T07:27:51.965554Z"
    }
   },
   "cell_type": "code",
   "source": "sns.boxplot(x=\"month\", y=\"value\", data=df_box, ax=ax2, order=month_order)",
   "id": "8d00bdc6bca99346",
   "outputs": [
    {
     "data": {
      "text/plain": [
       "<Axes: xlabel='month', ylabel='value'>"
      ]
     },
     "execution_count": 28,
     "metadata": {},
     "output_type": "execute_result"
    }
   ],
   "execution_count": 28
  },
  {
   "metadata": {
    "ExecuteTime": {
     "end_time": "2024-06-30T07:28:04.931447Z",
     "start_time": "2024-06-30T07:28:04.917317Z"
    }
   },
   "cell_type": "code",
   "source": "ax2.set_title(\"Month wise Box Plot (Seasonality)\")",
   "id": "7efeb4d8a833a4a8",
   "outputs": [
    {
     "data": {
      "text/plain": [
       "Text(0.5, 1.0, 'Month wise Box Plot (Seasonality)')"
      ]
     },
     "execution_count": 29,
     "metadata": {},
     "output_type": "execute_result"
    }
   ],
   "execution_count": 29
  },
  {
   "metadata": {
    "ExecuteTime": {
     "end_time": "2024-06-30T07:28:22.419990Z",
     "start_time": "2024-06-30T07:28:22.402971Z"
    }
   },
   "cell_type": "code",
   "source": [
    "ax2.set_xlabel(\"Month\")\n",
    "ax2.set_ylabel(\"Page Views\")"
   ],
   "id": "8efbfca1e16db64f",
   "outputs": [
    {
     "data": {
      "text/plain": [
       "Text(849.8989898989898, 0.5, 'Page Views')"
      ]
     },
     "execution_count": 30,
     "metadata": {},
     "output_type": "execute_result"
    }
   ],
   "execution_count": 30
  },
  {
   "metadata": {
    "ExecuteTime": {
     "end_time": "2024-06-30T07:28:28.735088Z",
     "start_time": "2024-06-30T07:28:28.726072Z"
    }
   },
   "cell_type": "code",
   "source": "plt.show()",
   "id": "842aad4c76b69a28",
   "outputs": [],
   "execution_count": 31
  },
  {
   "metadata": {
    "ExecuteTime": {
     "end_time": "2024-06-30T07:28:33.984477Z",
     "start_time": "2024-06-30T07:28:33.819671Z"
    }
   },
   "cell_type": "code",
   "source": "fig.savefig(\"box_plot.png\")",
   "id": "11b69dddb6978688",
   "outputs": [],
   "execution_count": 32
  },
  {
   "metadata": {},
   "cell_type": "code",
   "outputs": [],
   "execution_count": null,
   "source": "",
   "id": "99bbc9fedf661887"
  }
 ],
 "metadata": {
  "kernelspec": {
   "display_name": "Python 3",
   "language": "python",
   "name": "python3"
  },
  "language_info": {
   "codemirror_mode": {
    "name": "ipython",
    "version": 2
   },
   "file_extension": ".py",
   "mimetype": "text/x-python",
   "name": "python",
   "nbconvert_exporter": "python",
   "pygments_lexer": "ipython2",
   "version": "2.7.6"
  }
 },
 "nbformat": 4,
 "nbformat_minor": 5
}
